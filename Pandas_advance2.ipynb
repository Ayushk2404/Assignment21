{
 "cells": [
  {
   "cell_type": "code",
   "execution_count": 1,
   "metadata": {},
   "outputs": [],
   "source": [
    "import pandas as pd\n",
    "course_name = ['Data Science', 'Machine Learning', 'Big Data', 'Data Engineer']\n",
    "duration = [2,3,6,4]\n",
    "df = pd.DataFrame(data = {'course_name' : course_name, 'duration' : duration})"
   ]
  },
  {
   "cell_type": "code",
   "execution_count": 15,
   "metadata": {},
   "outputs": [
    {
     "data": {
      "text/plain": [
       "course_name    Machine Learning\n",
       "duration                      3\n",
       "Name: 1, dtype: object"
      ]
     },
     "execution_count": 15,
     "metadata": {},
     "output_type": "execute_result"
    }
   ],
   "source": [
    "# Q1\n",
    "tb = df[['course_name', 'duration']]\n",
    "tb.iloc[1]\n"
   ]
  },
  {
   "cell_type": "code",
   "execution_count": null,
   "metadata": {},
   "outputs": [],
   "source": [
    "# Q2\n",
    "'''loc (Label-based Selection):\n",
    "The loc function is used for label-based indexing, which means you can access rows and columns in a DataFrame using their labels (index and column names).\n",
    "It allows you to select data based on the row and column labels, rather than their numerical positions. The syntax for using loc is as follows:'''\n",
    "# Accessing specific rows and columns using loc\n",
    "# df.loc[row_label, column_label]\n",
    "\n",
    "'''iloc (Integer-based Selection):\n",
    "The iloc function is used for integer-based indexing, which means you can access rows and columns in a DataFrame using their integer positions. \n",
    "It allows you to select data based on the row and column indices, starting from 0. The syntax for using iloc is as follows:'''\n",
    "# Accessing specific rows and columns using iloc\n",
    "# df.iloc[row_index, column_index]\n",
    "\n"
   ]
  },
  {
   "cell_type": "code",
   "execution_count": 24,
   "metadata": {},
   "outputs": [
    {
     "name": "stdout",
     "output_type": "stream",
     "text": [
      "        course_name  duration\n",
      "3     Data Engineer         4\n",
      "0      Data Science         2\n",
      "1  Machine Learning         3\n",
      "2          Big Data         6\n",
      "course_name    Big Data\n",
      "duration              6\n",
      "Name: 2, dtype: object\n",
      "course_name    Machine Learning\n",
      "duration                      3\n",
      "Name: 1, dtype: object\n"
     ]
    }
   ],
   "source": [
    "# Q3\n",
    "import pandas as pd\n",
    "course_name = ['Data Science', 'Machine Learning', 'Big Data', 'Data Engineer']\n",
    "duration = [2,3,6,4]\n",
    "df = pd.DataFrame(data = {'course_name' : course_name, 'duration' : duration})\n",
    "new_df = df.reindex([3,0,1,2])\n",
    "print(new_df)\n",
    "print(new_df.loc[2])\n",
    "print(new_df.iloc[2])\n",
    "'''So, the key difference between iloc and loc is how they handle data types when accessing elements. iloc preserves the original data types from the original DataFrame, while loc infers data types based on the reindexed DataFrame. \n",
    "This difference becomes apparent when there are missing values (NaN) after reindexing, as seen in the duration column where 'Big Data' was previously in the 2nd row but became the 3rd row after reindexing, causing the NaN value in the new 2nd row.'''"
   ]
  },
  {
   "cell_type": "code",
   "execution_count": 37,
   "metadata": {},
   "outputs": [
    {
     "name": "stdout",
     "output_type": "stream",
     "text": [
      "   column_1  column_2  column_3  column_4  column_5  column_6\n",
      "1  0.508354  0.511717  0.736099  0.269252  0.272868  0.177900\n",
      "2  0.985180  0.301235  0.399815  0.996546  0.659803  0.523202\n",
      "3  0.637408  0.314534  0.199054  0.449678  0.512946  0.136503\n",
      "4  0.203036  0.366062  0.431878  0.176839  0.651807  0.757823\n",
      "5  0.256068  0.288201  0.860512  0.488198  0.859067  0.181158\n",
      "6  0.815126  0.067624  0.843382  0.201741  0.844234  0.131612\n",
      "column_1    0.567529\n",
      "column_2    0.308229\n",
      "column_3    0.578457\n",
      "column_4    0.430376\n",
      "column_5    0.633454\n",
      "column_6    0.318033\n",
      "dtype: float64\n",
      "0.1436192327362133\n"
     ]
    }
   ],
   "source": [
    "# Q4\n",
    "import pandas as pd\n",
    "import numpy as np\n",
    "columns = ['column_1', 'column_2', 'column_3', 'column_4', 'column_5', 'column_6']\n",
    "indices = [1,2,3,4,5,6]\n",
    "#Creating a dataframe:\n",
    "df1 = pd.DataFrame(np.random.rand(6,6), columns = columns, index = indices)\n",
    "print(df1)\n",
    "print(df1.mean())\n",
    "print(df1['column_2'].std())"
   ]
  },
  {
   "cell_type": "code",
   "execution_count": 52,
   "metadata": {},
   "outputs": [
    {
     "name": "stdout",
     "output_type": "stream",
     "text": [
      "   column_1   column_2  column_3  column_4  column_5  column_6\n",
      "1  0.924624   0.378833  0.004328  0.059711  0.887516  0.862202\n",
      "2  0.909081  Something  0.319998  0.524167  0.360667  0.649881\n",
      "3  0.432060   0.229484  0.802812  0.743366  0.131788  0.738238\n",
      "4  0.001524   0.972061  0.806596  0.845655  0.016193  0.285904\n",
      "5  0.591188   0.567664  0.312524  0.016562  0.725729  0.595571\n",
      "6  0.789822   0.103372  0.675567  0.846026  0.897152  0.741611\n"
     ]
    },
    {
     "data": {
      "text/plain": [
       "'Error is because  we are trying to perform a mathmatical operataion on different data_types\\nIn this column_2 we are trying to take mean of float and string data types which is wrong .'"
      ]
     },
     "execution_count": 52,
     "metadata": {},
     "output_type": "execute_result"
    }
   ],
   "source": [
    "# Q5\n",
    "import pandas as pd\n",
    "import numpy as np\n",
    "columns = ['column_1', 'column_2', 'column_3', 'column_4', 'column_5', 'column_6']\n",
    "indices = [1,2,3,4,5,6]\n",
    "#Creating a dataframe:\n",
    "df1 = pd.DataFrame(np.random.rand(6,6), columns = columns, index = indices)\n",
    "data_string = \"Something\"\n",
    "df1.loc[2,'column_2'] = data_string\n",
    "print(df1)\n",
    "print(df1.mean())\n",
    "'''Error is because  we are trying to perform a mathmatical operataion on different data_types\n",
    "In this column_2 we are trying to take mean of float and string data types which is wrong .'''"
   ]
  },
  {
   "cell_type": "code",
   "execution_count": 53,
   "metadata": {},
   "outputs": [
    {
     "name": "stdout",
     "output_type": "stream",
     "text": [
      "0    NaN\n",
      "1    NaN\n",
      "2    2.0\n",
      "3    3.0\n",
      "4    4.0\n",
      "5    5.0\n",
      "6    6.0\n",
      "7    7.0\n",
      "8    8.0\n",
      "Name: Value, dtype: float64\n",
      "0     1.0\n",
      "1     3.0\n",
      "2     6.0\n",
      "3    10.0\n",
      "4    15.0\n",
      "5    21.0\n",
      "6    28.0\n",
      "7    36.0\n",
      "8    45.0\n",
      "Name: Value, dtype: float64\n"
     ]
    },
    {
     "data": {
      "text/plain": [
       "'These are just two examples, and pandas offers a variety of other window functions, such as rolling().sum(), rolling().max(), rolling().min(), rolling().std(), etc., and similar functions for expanding windows.\\nYou can use these functions to perform a wide range of calculations over sliding or expanding windows of your data, which is particularly useful for time series analysis and other applications involving sequential data.'"
      ]
     },
     "execution_count": 53,
     "metadata": {},
     "output_type": "execute_result"
    }
   ],
   "source": [
    "# Q6\n",
    "'''In pandas, a window function is a powerful tool used for calculating aggregate functions over a sliding or rolling window of data in a DataFrame. It allows you to perform calculations on a specified window of data rather than on the entire dataset. Window functions are particularly useful for time series data and are often used for smoothing, trend analysis, and time-based calculations.\n",
    "\n",
    "Window functions in pandas are implemented using the rolling() and expanding() methods, which create a window or expanding view of the data. Once you have created a window, you can apply various aggregation functions to it, such as mean, sum, min, max, std, etc., to perform calculations over the window.\n",
    "\n",
    "Types of window functions in pandas:\n",
    "\n",
    "1.Rolling Windows: Rolling windows are used to create a fixed-size window that moves or rolls along the data. You can specify the window size and apply various aggregation functions to the data within that window. The rolling() method is used to create a rolling window.'''\n",
    "# Example of a simple rolling mean calculation over a window of size 3\n",
    "import pandas as pd\n",
    "\n",
    "data1 = [1, 2, 3, 4, 5, 6, 7, 8, 9]\n",
    "df = pd.DataFrame(data1, columns=['Value'])\n",
    "\n",
    "# Creating a rolling window of size 3 and calculating the mean\n",
    "rolling_window = df['Value'].rolling(window=3)\n",
    "rolling_mean = rolling_window.mean()\n",
    "\n",
    "print(rolling_mean)\n",
    "'''Expanding Windows: Expanding windows are used to include all data from the beginning up to the current row, gradually expanding as more data becomes available.\n",
    "The expanding() method is used to create an expanding window.'''\n",
    "\n",
    "# Example of an expanding sum calculation\n",
    "\n",
    "\n",
    "data2 = [1, 2, 3, 4, 5, 6, 7, 8, 9]\n",
    "df = pd.DataFrame(data2, columns=['Value'])\n",
    "\n",
    "# Creating an expanding window and calculating the sum\n",
    "expanding_window = df['Value'].expanding()\n",
    "expanding_sum = expanding_window.sum()\n",
    "\n",
    "print(expanding_sum)\n",
    "\n",
    "\n",
    "'''These are just two examples, and pandas offers a variety of other window functions, such as rolling().sum(), rolling().max(), rolling().min(), rolling().std(), etc., and similar functions for expanding windows.\n",
    "You can use these functions to perform a wide range of calculations over sliding or expanding windows of your data, which is particularly useful for time series analysis and other applications involving sequential data.'''"
   ]
  },
  {
   "cell_type": "code",
   "execution_count": 69,
   "metadata": {},
   "outputs": [
    {
     "name": "stdout",
     "output_type": "stream",
     "text": [
      "Month : 8\n",
      "Year : 2023\n"
     ]
    }
   ],
   "source": [
    "# Q7\n",
    "import pandas as pd\n",
    "df = pd.DataFrame({'data':['08/04/2023']})\n",
    "df['date'] = pd.to_datetime(df['data'])\n",
    "print('Month :', df.date.dt.month[0])\n",
    "print('Year :', df.date.dt.year[0])\n"
   ]
  },
  {
   "cell_type": "code",
   "execution_count": 72,
   "metadata": {},
   "outputs": [
    {
     "name": "stdout",
     "output_type": "stream",
     "text": [
      "Enter two dates to calculate the difference between them.\n",
      "Date 1:\n",
      "\n",
      "Date 2:\n",
      "\n",
      "Difference between the two dates:\n",
      "Days: 533 days\n",
      "Hours: 0 hours\n",
      "Minutes: 0 minutes\n"
     ]
    }
   ],
   "source": [
    "# Q8\n",
    "import pandas as pd\n",
    "\n",
    "def get_date_from_user():\n",
    "    while True:\n",
    "        try:\n",
    "            date_str = input(\"Enter a date in the format YYYY-MM-DD: \")\n",
    "            date_obj = pd.to_datetime(date_str)\n",
    "            return date_obj\n",
    "        except ValueError:\n",
    "            print(\"Invalid date format. Please enter a valid date in the format YYYY-MM-DD.\")\n",
    "\n",
    "def main():\n",
    "    print(\"Enter two dates to calculate the difference between them.\")\n",
    "    print(\"Date 1:\")\n",
    "    date1 = get_date_from_user()\n",
    "\n",
    "    print(\"\\nDate 2:\")\n",
    "    date2 = get_date_from_user()\n",
    "\n",
    "    # Calculate the difference\n",
    "    time_delta = date2 - date1\n",
    "\n",
    "    # Extract the difference in days, hours, and minutes\n",
    "    days_difference = time_delta.days\n",
    "    hours_difference = time_delta.seconds // 3600\n",
    "    minutes_difference = (time_delta.seconds % 3600) // 60\n",
    "\n",
    "    print(\"\\nDifference between the two dates:\")\n",
    "    print(f\"Days: {days_difference} days\")\n",
    "    print(f\"Hours: {hours_difference} hours\")\n",
    "    print(f\"Minutes: {minutes_difference} minutes\")\n",
    "\n",
    "if __name__ == \"__main__\":\n",
    "    main()\n"
   ]
  },
  {
   "cell_type": "code",
   "execution_count": 74,
   "metadata": {},
   "outputs": [
    {
     "name": "stdout",
     "output_type": "stream",
     "text": [
      "Enter the path of the CSV file:\n",
      "Enter the column name to convert to categorical:\n",
      "Enter the category order separated by commas (e.g., cat1,cat2,cat3):\n",
      "\n",
      "Sorted Data:\n",
      "    taxonomy_id                          name parent_id parent_name\n",
      "0           101                     Emergency       NaN         NaN\n",
      "1        101-01             Disaster Response       101         NaN\n",
      "2        101-02                Emergency Cash       101         NaN\n",
      "3     101-02-01             Help Pay for Food    101-02         NaN\n",
      "4     101-02-02       Help Pay for Healthcare    101-02         NaN\n",
      "..          ...                           ...       ...         ...\n",
      "285   111-01-07              Workplace Rights    111-01         NaN\n",
      "286      111-02                     Mediation       111         NaN\n",
      "287      111-03                        Notary       111         NaN\n",
      "288      111-04                Representation       111         NaN\n",
      "289      111-05  Translation & Interpretation       111         NaN\n",
      "\n",
      "[290 rows x 4 columns]\n"
     ]
    }
   ],
   "source": [
    "# Q9\n",
    "import pandas as pd\n",
    "\n",
    "def read_csv_file(file_path):\n",
    "    try:\n",
    "        df = pd.read_csv(file_path)\n",
    "        return df\n",
    "    except FileNotFoundError:\n",
    "        print(\"File not found. Please enter a valid file path.\")\n",
    "        return None\n",
    "\n",
    "def convert_to_categorical(df, column_name, category_order):\n",
    "    try:\n",
    "        df[column_name] = pd.Categorical(df[column_name], categories=category_order, ordered=True)\n",
    "        return df\n",
    "    except KeyError:\n",
    "        print(\"Column not found in the DataFrame.\")\n",
    "        return None\n",
    "\n",
    "def main():\n",
    "    print(\"Enter the path of the CSV file:\")\n",
    "    file_path = input()\n",
    "\n",
    "    df = read_csv_file(file_path)\n",
    "    if df is None:\n",
    "        return\n",
    "\n",
    "    print(\"Enter the column name to convert to categorical:\")\n",
    "    column_name = input()\n",
    "\n",
    "    print(\"Enter the category order separated by commas (e.g., cat1,cat2,cat3):\")\n",
    "    category_order = input().split(',')\n",
    "\n",
    "    df = convert_to_categorical(df, column_name, category_order)\n",
    "    if df is None:\n",
    "        return\n",
    "\n",
    "    sorted_df = df.sort_values(by=column_name)\n",
    "\n",
    "    print(\"\\nSorted Data:\")\n",
    "    print(sorted_df)\n",
    "\n",
    "if __name__ == \"__main__\":\n",
    "    main()\n"
   ]
  },
  {
   "cell_type": "code",
   "execution_count": 77,
   "metadata": {},
   "outputs": [
    {
     "name": "stdout",
     "output_type": "stream",
     "text": [
      "Enter the path of the CSV file:\n"
     ]
    },
    {
     "data": {
      "image/png": "[encoded data removed]",
      "text/plain": [
       "<Figure size 640x480 with 1 Axes>"
      ]
     },
     "metadata": {},
     "output_type": "display_data"
    }
   ],
   "source": [
    "# Q 10\n",
    "import pandas as pd\n",
    "import matplotlib.pyplot as plt\n",
    "\n",
    "def read_csv_file(file_path):\n",
    "    try:\n",
    "        df = pd.read_csv(file_path)\n",
    "        return df\n",
    "    except FileNotFoundError:\n",
    "        print(\"File not found. Please enter a valid file path.\")\n",
    "        return None\n",
    "\n",
    "def main():\n",
    "    print(\"Enter the path of the CSV file:\")\n",
    "    file_path = input()\n",
    "\n",
    "    df = read_csv_file(file_path)\n",
    "    if df is None:\n",
    "        return\n",
    "\n",
    "    date_column = 'Date'\n",
    "    product_categories = df.columns[1:]  \n",
    "\n",
    "    df[date_column] = pd.to_datetime(df[date_column])\n",
    "    df.set_index(date_column, inplace=True)\n",
    "\n",
    "\n",
    "    ax = df.plot(kind='bar', stacked=True, colormap='viridis')\n",
    "\n",
    " \n",
    "    plt.title('Sales by Product Category over Time')\n",
    "    plt.xlabel('Date')\n",
    "    plt.ylabel('Sales')\n",
    "    plt.legend(title='Product Category', loc='upper right')\n",
    "\n",
    "   \n",
    "    plt.show()\n",
    "\n",
    "if __name__ == \"__main__\":\n",
    "    main()\n"
   ]
  },
  {
   "cell_type": "code",
   "execution_count": 78,
   "metadata": {},
   "outputs": [
    {
     "name": "stdout",
     "output_type": "stream",
     "text": [
      "Enter the file path of the CSV file containing the student data:\n",
      "+-----------+----------------------------------------+\n",
      "| Statistic |                 Value                  |\n",
      "+-----------+----------------------------------------+\n",
      "|    Mean   |                  83.7                  |\n",
      "|   Median  |                  86.0                  |\n",
      "|    Mode   | 67, 73, 78, 80, 85, 87, 89, 91, 92, 95 |\n",
      "+-----------+----------------------------------------+\n"
     ]
    }
   ],
   "source": [
    "# Q 11\n",
    "import pandas as pd\n",
    "from prettytable import PrettyTable\n",
    "\n",
    "def read_csv_file(file_path):\n",
    "    try:\n",
    "        df = pd.read_csv(file_path)\n",
    "        return df\n",
    "    except FileNotFoundError:\n",
    "        print(\"File not found. Please enter a valid file path.\")\n",
    "        return None\n",
    "\n",
    "def main():\n",
    "    print(\"Enter the file path of the CSV file containing the student data:\")\n",
    "    file_path = input()\n",
    "\n",
    "    df = read_csv_file(file_path)\n",
    "    if df is None:\n",
    "        return\n",
    "\n",
    "    # Calculate mean, median, and mode of the test scores\n",
    "    mean_score = df['Test Score'].mean()\n",
    "    median_score = df['Test Score'].median()\n",
    "    mode_score = df['Test Score'].mode()\n",
    "\n",
    "    # Create a PrettyTable to display the results\n",
    "    table = PrettyTable()\n",
    "    table.field_names = ['Statistic', 'Value']\n",
    "    table.add_row(['Mean', mean_score])\n",
    "    table.add_row(['Median', median_score])\n",
    "    table.add_row(['Mode', ', '.join(map(str, mode_score.tolist()))])\n",
    "\n",
    "    # Print the table\n",
    "    print(table)\n",
    "\n",
    "if __name__ == \"__main__\":\n",
    "    main()\n",
    "\n",
    "    "
   ]
  }
 ],
 "metadata": {
  "kernelspec": {
   "display_name": "Python 3",
   "language": "python",
   "name": "python3"
  },
  "language_info": {
   "codemirror_mode": {
    "name": "ipython",
    "version": 3
   },
   "file_extension": ".py",
   "mimetype": "text/x-python",
   "name": "python",
   "nbconvert_exporter": "python",
   "pygments_lexer": "ipython3",
   "version": "3.11.4"
  },
  "orig_nbformat": 4
 },
 "nbformat": 4,
 "nbformat_minor": 2
}
